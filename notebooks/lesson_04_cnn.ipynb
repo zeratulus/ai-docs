{
  "nbformat": 4,
  "nbformat_minor": 0,
  "metadata": {
    "colab": {
      "provenance": [],
      "gpuType": "T4"
    },
    "kernelspec": {
      "name": "python3",
      "display_name": "Python 3"
    },
    "accelerator": "GPU"
  },
  "cells": [
    {
      "cell_type": "markdown",
      "metadata": {
        "id": "3DR-eO17geWu"
      },
      "source": [
        "# Convolutional Neural Network"
      ]
    },
    {
      "cell_type": "markdown",
      "metadata": {
        "id": "EMefrVPCg-60"
      },
      "source": [
        "### Importing the libraries"
      ]
    },
    {
      "cell_type": "code",
      "source": [
        "from google.colab import drive\n",
        "drive.mount('/content/drive')"
      ],
      "metadata": {
        "id": "hOn7MJtK2odk",
        "colab": {
          "base_uri": "https://localhost:8080/"
        },
        "outputId": "d64c7022-92aa-408a-ea3f-d2f48ba22575"
      },
      "execution_count": null,
      "outputs": [
        {
          "output_type": "stream",
          "name": "stdout",
          "text": [
            "Mounted at /content/drive\n"
          ]
        }
      ]
    },
    {
      "cell_type": "code",
      "metadata": {
        "id": "sCV30xyVhFbE"
      },
      "source": [
        "import tensorflow as tf\n",
        "from tensorflow.keras.preprocessing.image import ImageDataGenerator"
      ],
      "execution_count": null,
      "outputs": []
    },
    {
      "cell_type": "code",
      "metadata": {
        "id": "FIleuCAjoFD8",
        "outputId": "c55fc963-372f-4c98-c1e3-5eeff94ba282",
        "colab": {
          "base_uri": "https://localhost:8080/",
          "height": 34
        }
      },
      "source": [
        "tf.__version__"
      ],
      "execution_count": null,
      "outputs": [
        {
          "output_type": "execute_result",
          "data": {
            "text/plain": [
              "'2.18.0'"
            ],
            "application/vnd.google.colaboratory.intrinsic+json": {
              "type": "string"
            }
          },
          "metadata": {},
          "execution_count": 3
        }
      ]
    },
    {
      "cell_type": "markdown",
      "metadata": {
        "id": "oxQxCBWyoGPE"
      },
      "source": [
        "## Part 1 - Data Preprocessing"
      ]
    },
    {
      "cell_type": "markdown",
      "metadata": {
        "id": "MvE-heJNo3GG"
      },
      "source": [
        "### Preprocessing the Training set"
      ]
    },
    {
      "cell_type": "code",
      "metadata": {
        "id": "0koUcJMJpEBD",
        "colab": {
          "base_uri": "https://localhost:8080/"
        },
        "outputId": "329005c7-db60-4ec4-9266-5d6d99e3244f"
      },
      "source": [
        "# Ініціалізація ImageDataGenerator для підготовки зображень з різними трансформаціями\n",
        "train_datagen = ImageDataGenerator(\n",
        "    rescale = 1./255,         # Масштабування пікселів зображень до діапазону [0, 1]\n",
        "    shear_range = 0.2,        # Рандомне зсування (shear) зображень для збільшення варіативності\n",
        "    zoom_range = 0.2,         # Рандомне збільшення/зменшення зображень (zoom) для варіативності\n",
        "    horizontal_flip = True    # Рандомне горизонтальне відображення зображень\n",
        ")\n",
        "\n",
        "# Завантаження зображень з директорії 'dataset/training_set' з певними параметрами\n",
        "training_set = train_datagen.flow_from_directory(\n",
        "    '/content/drive/MyDrive/Unidatalab/genai-course/lesson_4/dataset/training_set',     # Шлях до директорії з тренувальними зображеннями\n",
        "    target_size = (64, 64),     # Перемасштабування зображень до розміру 64x64 пікселів\n",
        "    batch_size = 32,            # Розмір пакету (batch) зображень, який буде використовуватись при тренуванні\n",
        "    class_mode = 'binary'       # Модель кодування міток: двійкова класифікація (наприклад, 0 або 1)\n",
        ")\n"
      ],
      "execution_count": null,
      "outputs": [
        {
          "output_type": "stream",
          "name": "stdout",
          "text": [
            "Found 8000 images belonging to 2 classes.\n"
          ]
        }
      ]
    },
    {
      "cell_type": "markdown",
      "metadata": {
        "id": "mrCMmGw9pHys"
      },
      "source": [
        "### Preprocessing the Test set"
      ]
    },
    {
      "cell_type": "code",
      "metadata": {
        "id": "SH4WzfOhpKc3",
        "colab": {
          "base_uri": "https://localhost:8080/"
        },
        "outputId": "f772a8ee-0829-4168-b7d8-a01f9dc48b68"
      },
      "source": [
        "test_datagen = ImageDataGenerator(\n",
        "    rescale = 1./255  # Масштабування пікселів зображень до діапазону [0, 1] для нормалізації\n",
        ")\n",
        "\n",
        "# Завантаження тестових зображень з директорії 'dataset/test_set' з певними параметрами\n",
        "test_set = test_datagen.flow_from_directory(\n",
        "    '/content/drive/MyDrive/Unidatalab/genai-course/lesson_4/dataset/test_set',     # Шлях до директорії з тестовими зображеннями\n",
        "    target_size = (64, 64),  # Перемасштабування зображень до розміру 64x64 пікселів\n",
        "    batch_size = 32,         # Розмір пакету (batch) зображень, який буде використовуватись при тестуванні\n",
        "    class_mode = 'binary'    # Модель кодування міток: двійкова класифікація (наприклад, 0 або 1)\n",
        ")\n"
      ],
      "execution_count": null,
      "outputs": [
        {
          "output_type": "stream",
          "name": "stdout",
          "text": [
            "Found 2000 images belonging to 2 classes.\n"
          ]
        }
      ]
    },
    {
      "cell_type": "markdown",
      "metadata": {
        "id": "af8O4l90gk7B"
      },
      "source": [
        "## Part 2 - Building the CNN"
      ]
    },
    {
      "cell_type": "markdown",
      "metadata": {
        "id": "ces1gXY2lmoX"
      },
      "source": [
        "### Initialising the CNN"
      ]
    },
    {
      "cell_type": "code",
      "metadata": {
        "id": "SAUt4UMPlhLS"
      },
      "source": [
        "# Створення порожньої послідовної моделі (Sequential) для побудови нейронної мережі\n",
        "cnn = tf.keras.models.Sequential()"
      ],
      "execution_count": null,
      "outputs": []
    },
    {
      "cell_type": "markdown",
      "metadata": {
        "id": "u5YJj_XMl5LF"
      },
      "source": [
        "### Step 1 - Convolution"
      ]
    },
    {
      "cell_type": "code",
      "metadata": {
        "id": "XPzPrMckl-hV",
        "colab": {
          "base_uri": "https://localhost:8080/"
        },
        "outputId": "475a6f89-651a-4b3e-b669-e817e97ee55a"
      },
      "source": [
        "# Додавання 2D-конвуляційного шару до моделі\n",
        "cnn.add(tf.keras.layers.Conv2D(\n",
        "    filters=32,               # Кількість фільтрів (каналів) у шарі, що визначає кількість вихідних характеристик\n",
        "    kernel_size=3,            # Розмір ядра (фільтру), який буде застосовуватись до зображення (3x3)\n",
        "    activation='relu',        # Функція активації ReLU для додавання нелінійності\n",
        "    input_shape=[64, 64, 3]   # Формат вхідних даних: зображення розміру 64x64 з 3 каналами (RGB)\n",
        "))\n"
      ],
      "execution_count": null,
      "outputs": [
        {
          "output_type": "stream",
          "name": "stderr",
          "text": [
            "/usr/local/lib/python3.11/dist-packages/keras/src/layers/convolutional/base_conv.py:107: UserWarning: Do not pass an `input_shape`/`input_dim` argument to a layer. When using Sequential models, prefer using an `Input(shape)` object as the first layer in the model instead.\n",
            "  super().__init__(activity_regularizer=activity_regularizer, **kwargs)\n"
          ]
        }
      ]
    },
    {
      "cell_type": "markdown",
      "metadata": {
        "id": "tf87FpvxmNOJ"
      },
      "source": [
        "### Step 2 - Pooling"
      ]
    },
    {
      "cell_type": "code",
      "metadata": {
        "id": "ncpqPl69mOac"
      },
      "source": [
        "# Додавання шару максимального підвибору (MaxPooling) для зменшення розміру зображення\n",
        "cnn.add(tf.keras.layers.MaxPool2D(\n",
        "    pool_size=2,        # Розмір пулінгового вікна (2x2) для вибору максимального значення в кожному регіоні\n",
        "    strides=2           # Крок скидання вікна, який визначає, на скільки пікселів переміщається вікно\n",
        "))\n"
      ],
      "execution_count": null,
      "outputs": []
    },
    {
      "cell_type": "markdown",
      "metadata": {
        "id": "xaTOgD8rm4mU"
      },
      "source": [
        "### Adding a second convolutional layer"
      ]
    },
    {
      "cell_type": "code",
      "metadata": {
        "id": "i_-FZjn_m8gk"
      },
      "source": [
        "# Додавання ще одного 2D-конвуляційного шару до моделі\n",
        "cnn.add(tf.keras.layers.Conv2D(\n",
        "    filters=32,               # Кількість фільтрів (каналів) у шарі, що визначає кількість вихідних характеристик\n",
        "    kernel_size=3,            # Розмір ядра (фільтру), який буде застосовуватись до зображення (3x3)\n",
        "    activation='relu'         # Функція активації ReLU для додавання нелінійності\n",
        "))\n",
        "\n",
        "# Додавання ще одного шару максимального підвибору (MaxPooling) для зменшення розміру зображення\n",
        "cnn.add(tf.keras.layers.MaxPool2D(\n",
        "    pool_size=2,        # Розмір пулінгового вікна (2x2) для вибору максимального значення в кожному регіоні\n",
        "    strides=2           # Крок скидання вікна, який визначає, на скільки пікселів переміщається вікно\n",
        "))\n"
      ],
      "execution_count": null,
      "outputs": []
    },
    {
      "cell_type": "markdown",
      "metadata": {
        "id": "tmiEuvTunKfk"
      },
      "source": [
        "### Step 3 - Flattening"
      ]
    },
    {
      "cell_type": "code",
      "metadata": {
        "id": "6AZeOGCvnNZn"
      },
      "source": [
        "# Додавання шару Flatten для перетворення 2D-матриць в 1D-вектор\n",
        "cnn.add(tf.keras.layers.Flatten())"
      ],
      "execution_count": null,
      "outputs": []
    },
    {
      "cell_type": "markdown",
      "metadata": {
        "id": "dAoSECOm203v"
      },
      "source": [
        "### Step 4 - Full Connection"
      ]
    },
    {
      "cell_type": "code",
      "metadata": {
        "id": "8GtmUlLd26Nq"
      },
      "source": [
        "# Додавання повнозв'язного (Dense) шару з 128 одиницями та функцією активації ReLU\n",
        "cnn.add(tf.keras.layers.Dense(\n",
        "    units=128,             # Кількість нейронів (одиниць) у цьому шарі\n",
        "    activation='relu'      # Функція активації ReLU для додавання нелінійності\n",
        "))\n"
      ],
      "execution_count": null,
      "outputs": []
    },
    {
      "cell_type": "markdown",
      "metadata": {
        "id": "yTldFvbX28Na"
      },
      "source": [
        "### Step 5 - Output Layer"
      ]
    },
    {
      "cell_type": "code",
      "metadata": {
        "id": "1p_Zj1Mc3Ko_"
      },
      "source": [
        "# Додавання вихідного повнозв'язного (Dense) шару з 1 одиницею та функцією активації Sigmoid\n",
        "cnn.add(tf.keras.layers.Dense(\n",
        "    units=1,               # Кількість нейронів (1) у вихідному шарі (для бінарної класифікації)\n",
        "    activation='sigmoid'   # Функція активації Sigmoid, яка обмежує вихідне значення до діапазону [0, 1]\n",
        "))\n"
      ],
      "execution_count": null,
      "outputs": []
    },
    {
      "cell_type": "markdown",
      "metadata": {
        "id": "D6XkI90snSDl"
      },
      "source": [
        "## Part 3 - Training the CNN"
      ]
    },
    {
      "cell_type": "markdown",
      "metadata": {
        "id": "vfrFQACEnc6i"
      },
      "source": [
        "### Compiling the CNN"
      ]
    },
    {
      "cell_type": "code",
      "metadata": {
        "id": "NALksrNQpUlJ"
      },
      "source": [
        "# Компіляція моделі з вказаними оптимізатором, функцією втрат і метриками\n",
        "cnn.compile(\n",
        "    optimizer='adam',                  # Оптимізатор Adam для ефективного оновлення ваг моделі\n",
        "    loss='binary_crossentropy',         # Функція втрат для бінарної класифікації (перехресна ентропія)\n",
        "    metrics=['accuracy']                # Метрика точності для оцінки ефективності моделі\n",
        ")"
      ],
      "execution_count": null,
      "outputs": []
    },
    {
      "cell_type": "markdown",
      "metadata": {
        "id": "ehS-v3MIpX2h"
      },
      "source": [
        "### Training the CNN on the Training set and evaluating it on the Test set"
      ]
    },
    {
      "cell_type": "code",
      "metadata": {
        "id": "XUj1W4PJptta",
        "colab": {
          "base_uri": "https://localhost:8080/"
        },
        "outputId": "a47af709-24a1-489d-8ce0-340a3dda02f2"
      },
      "source": [
        "from tensorflow.keras.callbacks import EarlyStopping\n",
        "\n",
        "# Оголошуємо колбек EarlyStopping\n",
        "early_stopping = EarlyStopping(\n",
        "    monitor='val_loss',          # Моніторинг метрики для зупинки (можна використовувати 'val_accuracy' для точності)\n",
        "    patience=3,                  # Кількість епох, після яких зупиняємо тренування, якщо немає покращень\n",
        "    verbose=1,                   # Виведення повідомлення про зупинку тренування\n",
        "    restore_best_weights=True    # Повертаємо ваги моделі на найкращий етап (найменший val_loss)\n",
        ")\n",
        "\n",
        "# Навчання моделі з використанням early stopping\n",
        "cnn.fit(\n",
        "    x=training_set,              # Тренувальні дані\n",
        "    validation_data=test_set,    # Дані для валідації\n",
        "    epochs=5,                   # Кількість епох для тренування\n",
        "    steps_per_epoch=len(training_set),  # Кількість кроків на одну епоху\n",
        "    validation_steps=len(test_set),    # Кількість кроків на валідацію\n",
        "    verbose=1,                   # Виведення прогресу тренування\n",
        "    callbacks=[early_stopping]    # Додаємо колбек EarlyStopping для моніторингу процесу\n",
        ")\n"
      ],
      "execution_count": null,
      "outputs": [
        {
          "output_type": "stream",
          "name": "stderr",
          "text": [
            "/usr/local/lib/python3.11/dist-packages/keras/src/trainers/data_adapters/py_dataset_adapter.py:121: UserWarning: Your `PyDataset` class should call `super().__init__(**kwargs)` in its constructor. `**kwargs` can include `workers`, `use_multiprocessing`, `max_queue_size`. Do not pass these arguments to `fit()`, as they will be ignored.\n",
            "  self._warn_if_super_not_called()\n"
          ]
        },
        {
          "output_type": "stream",
          "name": "stdout",
          "text": [
            "Epoch 1/5\n",
            "\u001b[1m250/250\u001b[0m \u001b[32m━━━━━━━━━━━━━━━━━━━━\u001b[0m\u001b[37m\u001b[0m \u001b[1m2126s\u001b[0m 8s/step - accuracy: 0.5562 - loss: 0.6849 - val_accuracy: 0.6850 - val_loss: 0.6010\n",
            "Epoch 2/5\n",
            "\u001b[1m250/250\u001b[0m \u001b[32m━━━━━━━━━━━━━━━━━━━━\u001b[0m\u001b[37m\u001b[0m \u001b[1m103s\u001b[0m 179ms/step - accuracy: 0.6840 - loss: 0.5946 - val_accuracy: 0.6970 - val_loss: 0.5769\n",
            "Epoch 3/5\n",
            "\u001b[1m250/250\u001b[0m \u001b[32m━━━━━━━━━━━━━━━━━━━━\u001b[0m\u001b[37m\u001b[0m \u001b[1m82s\u001b[0m 180ms/step - accuracy: 0.7051 - loss: 0.5646 - val_accuracy: 0.7440 - val_loss: 0.5369\n",
            "Epoch 4/5\n",
            "\u001b[1m250/250\u001b[0m \u001b[32m━━━━━━━━━━━━━━━━━━━━\u001b[0m\u001b[37m\u001b[0m \u001b[1m45s\u001b[0m 181ms/step - accuracy: 0.7055 - loss: 0.5529 - val_accuracy: 0.7185 - val_loss: 0.5569\n",
            "Epoch 5/5\n",
            "\u001b[1m250/250\u001b[0m \u001b[32m━━━━━━━━━━━━━━━━━━━━\u001b[0m\u001b[37m\u001b[0m \u001b[1m48s\u001b[0m 192ms/step - accuracy: 0.7291 - loss: 0.5285 - val_accuracy: 0.7510 - val_loss: 0.5079\n",
            "Restoring model weights from the end of the best epoch: 5.\n"
          ]
        },
        {
          "output_type": "execute_result",
          "data": {
            "text/plain": [
              "<keras.src.callbacks.history.History at 0x7b865e7ab190>"
            ]
          },
          "metadata": {},
          "execution_count": 15
        }
      ]
    },
    {
      "cell_type": "code",
      "source": [],
      "metadata": {
        "id": "My3hB7nRjHZJ"
      },
      "execution_count": null,
      "outputs": []
    },
    {
      "cell_type": "markdown",
      "metadata": {
        "id": "U3PZasO0006Z"
      },
      "source": [
        "## Part 4 - Making a single prediction"
      ]
    },
    {
      "cell_type": "code",
      "metadata": {
        "id": "gsSiWEJY1BPB",
        "colab": {
          "base_uri": "https://localhost:8080/"
        },
        "outputId": "7660b0e4-c7ae-4294-917c-d36cbbfec327"
      },
      "source": [
        "import numpy as np\n",
        "from tensorflow.keras.preprocessing import image\n",
        "# Завантаження зображення для передбачення та зміна його розміру до 64x64 пікселів\n",
        "test_image = image.load_img('/content/drive/MyDrive/Unidatalab/genai-course/lesson_4/british-shorthair-1.jpg', target_size = (64, 64))\n",
        "\n",
        "# Перетворення зображення в масив (числове представлення)\n",
        "test_image = image.img_to_array(test_image)\n",
        "\n",
        "# Додавання додаткового виміру, щоб відповідати формату вхідних даних моделі (1, 64, 64, 3)\n",
        "test_image = np.expand_dims(test_image, axis = 0)\n",
        "\n",
        "# Прогнозування класу для зображення\n",
        "result = cnn.predict(test_image)\n",
        "\n",
        "# Перевірка, до якого класу належить зображення: 'dog' або 'cat'\n",
        "training_set.class_indices   # Виведення відповідностей класів (мітки) для тренувального набору\n",
        "if result[0][0] >= 0.5:\n",
        "    prediction = 'dog'\n",
        "else:\n",
        "    prediction = 'cat'\n",
        "\n",
        "print(prediction)\n",
        "\n",
        "probability = result[0][0]\n",
        "print(f\"Probability: {probability}\")"
      ],
      "execution_count": null,
      "outputs": [
        {
          "output_type": "stream",
          "name": "stdout",
          "text": [
            "\u001b[1m1/1\u001b[0m \u001b[32m━━━━━━━━━━━━━━━━━━━━\u001b[0m\u001b[37m\u001b[0m \u001b[1m0s\u001b[0m 28ms/step\n",
            "dog\n",
            "Probability: 1.0\n"
          ]
        }
      ]
    },
    {
      "cell_type": "code",
      "metadata": {
        "id": "ED9KB3I54c1i",
        "colab": {
          "base_uri": "https://localhost:8080/"
        },
        "outputId": "5d129016-c25c-413c-d344-105f447c5adb"
      },
      "source": [
        "print(prediction)"
      ],
      "execution_count": null,
      "outputs": [
        {
          "output_type": "stream",
          "name": "stdout",
          "text": [
            "dog\n"
          ]
        }
      ]
    },
    {
      "cell_type": "markdown",
      "source": [
        "#RNN/LSTM"
      ],
      "metadata": {
        "id": "0ShD7BTdrzj7"
      }
    },
    {
      "cell_type": "markdown",
      "source": [
        "\n",
        "**Мета**\n",
        "\n",
        "Підготувати текстові дані з датасету IMDb для задачі бінарної класифікації (класифікація відгуку як позитивний або негативний). Застосовується для навчання моделі RNN/LSTM/GRU.\n",
        "\n"
      ],
      "metadata": {
        "id": "gjdN9uJFy9fi"
      }
    },
    {
      "cell_type": "markdown",
      "source": [
        "Послідовна Приклад-Схема роботи LSTM\n",
        "![image.png](data:image/png;base64,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)"
      ],
      "metadata": {
        "id": "1dhYG6w5zmHn"
      }
    },
    {
      "cell_type": "markdown",
      "source": [
        "1. Токенізація (перетворення тексту в числа)\n",
        "Ми не можемо подавати сирий текст у модель, тому кожне слово замінюємо числом\n",
        "\n",
        "    \"the\" → 1\n",
        "    \"movie\" → 20\n",
        "    \"great\" → 94\n",
        "    ...\n",
        "\n",
        "Весь відгук стає списком чисел\n",
        "\n",
        "[1, 20, 15, 94, 6, 381]\n",
        "\n",
        "2. Вирівнювання довжини (padding)\n",
        "\n",
        "Не всі відгуки однакової довжини. Щоб модель могла працювати з ними, ми\n",
        "\n",
        "- обрізаємо занадто довгі\n",
        "\n",
        "- доповнюємо короткі нулями до фіксованої довжини (наприклад, 200 слів)\n",
        "\n",
        "\n",
        "Отримаємо:\n",
        "\n",
        "[1, 20, 15, 94, 6, 381, 0, 0, ..., 0]  ← 200 елементів\n",
        "\n",
        "3. Embedding — перехід до векторів\n",
        "Числа самі по собі нічого не значать. Ми перетворюємо кожне число на вектор, який зберігає \"сенс\" слова:\n",
        "\n",
        "1 → [0.2, -0.1, 0.5, ..., 0.3]  (вектор з 128 чисел)\n",
        "\n",
        "Тепер у нас є таблиця слів, де кожне слово — це вектор ознак (features).\n",
        "\n",
        "4. RNN або LSTM читає послідовність\n",
        "\n",
        "RNN (або краще LSTM) читає відгук по черзі, слово за словом.\n",
        "\n",
        "На кожному кроці пам’ятає, що прочитав раніше.\n",
        "\n",
        "    Прочитав \"not\" → негативно.\n",
        "\n",
        "    Прочитав \"not bad\" → добре, змінює думку.\n",
        "\n",
        "Приклад  тренування\n",
        "\n",
        "| Крок | Вхідне слово | Що бере RNN     | Що повертає   |\n",
        "| ---- | ------------ | --------------- | ------------- |\n",
        "| t=1  | \"The\"        | `x₁` + `h₀ = 0` | `h₁`          |\n",
        "| t=2  | \"movie\"      | `x₂` + `h₁`     | `h₂`          |\n",
        "| t=3  | \"was\"        | `x₃` + `h₂`     | `h₃`          |\n",
        "| t=4  | \"absolutely\" | `x₄` + `h₃`     | `h₄`          |\n",
        "| t=5  | \"fantastic\"  | `x₅` + `h₄`     | `h₅`          |\n",
        "\n",
        "xₜ - векторизоване слово\n",
        "hₜ₋₁ - прихований попередній стан\n",
        "hₜ — нова пам'ять\n",
        "\n",
        "**Останній стан h₅ — це зведена інформація  всього речення.**\n",
        "\n",
        "5. Bidirectional (двонаправлений аналіз)\n",
        "\n",
        "Ми використовуємо двонаправлену LSTM\n",
        "\n",
        "    Один \"потік\" читає текст зліва направо,\n",
        "\n",
        "    Інший — справа наліво.\n",
        "\n",
        "Це допомагає враховувати і минулий, і майбутній контекст слова.\n",
        "6. Класифікація\n",
        "\n",
        "Після того, як весь текст прочитано, RNN повертає вектор стану  він містить інформацію про зміст всього відгуку.\n",
        "\n",
        "Цей вектор подається далі -->\n",
        "\n",
        "    в Dense-шар — для обробки\n",
        "\n",
        "    в Dropout — щоб уникнути перенавчання\n",
        "\n",
        "    в вихідний нейрон з функцією sigmoid, яка дає результат:\n",
        "\n",
        "    0.91 → позитивний відгук  \n",
        "    0.14 → негативний відгук"
      ],
      "metadata": {
        "id": "who8ryXS0RIo"
      }
    },
    {
      "cell_type": "code",
      "source": [
        "import tensorflow as tf\n",
        "from tensorflow.keras.preprocessing.sequence import pad_sequences\n",
        "from tensorflow.keras.callbacks import EarlyStopping\n",
        "# Кількість найбільш частих слів, які будемо враховувати\n",
        "VOCAB_SIZE = 10_000\n",
        "\n",
        "# Максимальна довжина огляду (усі огляди приведуться до цієї довжини)\n",
        "MAXLEN = 200\n",
        "\n",
        "# Завантаження датасету IMDb. Кожен огляд — це список індексів слів\n",
        "(train_x, train_y), (test_x, test_y) = tf.keras.datasets.imdb.load_data(num_words=VOCAB_SIZE)\n",
        "\n",
        "# Візьмемо 20 000 прикладів для тренування та 4 000 для валідації\n",
        "N = 20000\n",
        "train_x, train_y = train_x[:N], train_y[:N]\n",
        "test_x,  test_y  = test_x[:N//5], test_y[:N//5]\n",
        "\n",
        "# Доповнюємо (padding) або обрізаємо (truncating) послідовності до MAXLEN\n",
        "train_x = pad_sequences(train_x, maxlen=MAXLEN, padding='post', truncating='post')\n",
        "test_x  = pad_sequences(test_x,  maxlen=MAXLEN, padding='post', truncating='post')"
      ],
      "metadata": {
        "id": "WXGWRVmpHq75"
      },
      "execution_count": 37,
      "outputs": []
    },
    {
      "cell_type": "code",
      "source": [
        "# Приклади відгуків з датасету\n",
        "\n",
        "# Завантажити словник (word index)\n",
        "word_index = tf.keras.datasets.imdb.get_word_index()\n",
        "\n",
        "# Зсунути індекси, бо tf.keras зарезервував 0,1,2\n",
        "word_index = {k: (v + 3) for k, v in word_index.items()}\n",
        "word_index[\"<PAD>\"] = 0\n",
        "word_index[\"<START>\"] = 1\n",
        "word_index[\"<UNK>\"] = 2\n",
        "word_index[\"<UNUSED>\"] = 3\n",
        "\n",
        "# Зробити індекси у зворотному порядку — числа → слова\n",
        "reverse_word_index = {v: k for k, v in word_index.items()}\n",
        "\n",
        "# Функція для розшифровки числової послідовності в текст\n",
        "def decode_review(text_ids):\n",
        "    return ' '.join([reverse_word_index.get(i, '?') for i in text_ids])\n",
        "\n",
        "# Вивести кілька прикладів з train set\n",
        "for i in range(5):\n",
        "    print(f\"\\n📄 Review #{i}\")\n",
        "    print(\"Text:\", decode_review(train_x[i]))\n",
        "    print(\"Label:\", \"positive\" if train_y[i] == 1 else \"negative\")\n"
      ],
      "metadata": {
        "colab": {
          "base_uri": "https://localhost:8080/"
        },
        "id": "86ipGICcBfBA",
        "outputId": "626d33d0-7680-49df-d602-d235842fbc88"
      },
      "execution_count": 18,
      "outputs": [
        {
          "output_type": "stream",
          "name": "stdout",
          "text": [
            "Downloading data from https://storage.googleapis.com/tensorflow/tf-keras-datasets/imdb_word_index.json\n",
            "\u001b[1m1641221/1641221\u001b[0m \u001b[32m━━━━━━━━━━━━━━━━━━━━\u001b[0m\u001b[37m\u001b[0m \u001b[1m0s\u001b[0m 0us/step\n",
            "\n",
            "📄 Review #0\n",
            "Text: <START> this film was just brilliant casting location scenery story direction everyone's really suited the part they played and you could just imagine being there robert <UNK> is an amazing actor and now the same being director <UNK> father came from the same scottish island as myself so i loved the fact there was a real connection with this film the witty remarks throughout the film were great it was just brilliant so much that i bought the film as soon as it was released for <UNK> and would recommend it to everyone to watch and the fly fishing was amazing really cried at the end it was so sad and you know what they say if you cry at a film it must have been good and this definitely was also <UNK> to the two little boy's that played the <UNK> of norman and paul they were just brilliant children are often left out of the <UNK> list i think because the stars that play them all grown up are such a big profile for the whole film but these children are amazing and should be praised for what they have done don't you think the whole story was\n",
            "Label: positive\n",
            "\n",
            "📄 Review #1\n",
            "Text: <START> big hair big boobs bad music and a giant safety pin these are the words to best describe this terrible movie i love cheesy horror movies and i've seen hundreds but this had got to be on of the worst ever made the plot is paper thin and ridiculous the acting is an abomination the script is completely laughable the best is the end showdown with the cop and how he worked out who the killer is it's just so damn terribly written the clothes are sickening and funny in equal <UNK> the hair is big lots of boobs <UNK> men wear those cut <UNK> shirts that show off their <UNK> sickening that men actually wore them and the music is just <UNK> trash that plays over and over again in almost every scene there is trashy music boobs and <UNK> taking away bodies and the gym still doesn't close for <UNK> all joking aside this is a truly bad film whose only charm is to look back on the disaster that was the 80's and have a good old laugh at how bad everything was back then <PAD> <PAD> <PAD> <PAD> <PAD> <PAD> <PAD> <PAD> <PAD> <PAD> <PAD>\n",
            "Label: negative\n",
            "\n",
            "📄 Review #2\n",
            "Text: <START> this has to be one of the worst films of the 1990s when my friends i were watching this film being the target audience it was aimed at we just sat watched the first half an hour with our jaws touching the floor at how bad it really was the rest of the time everyone else in the theatre just started talking to each other leaving or generally crying into their popcorn that they actually paid money they had <UNK> working to watch this feeble excuse for a film it must have looked like a great idea on paper but on film it looks like no one in the film has a clue what is going on crap acting crap costumes i can't get across how <UNK> this is to watch save yourself an hour a bit of your life <PAD> <PAD> <PAD> <PAD> <PAD> <PAD> <PAD> <PAD> <PAD> <PAD> <PAD> <PAD> <PAD> <PAD> <PAD> <PAD> <PAD> <PAD> <PAD> <PAD> <PAD> <PAD> <PAD> <PAD> <PAD> <PAD> <PAD> <PAD> <PAD> <PAD> <PAD> <PAD> <PAD> <PAD> <PAD> <PAD> <PAD> <PAD> <PAD> <PAD> <PAD> <PAD> <PAD> <PAD> <PAD> <PAD> <PAD> <PAD> <PAD> <PAD> <PAD> <PAD> <PAD> <PAD> <PAD> <PAD> <PAD> <PAD> <PAD>\n",
            "Label: negative\n",
            "\n",
            "📄 Review #3\n",
            "Text: <START> the <UNK> <UNK> at storytelling the traditional sort many years after the event i can still see in my <UNK> eye an elderly lady my friend's mother retelling the battle of <UNK> she makes the characters come alive her passion is that of an eye witness one to the events on the <UNK> heath a mile or so from where she lives br br of course it happened many years before she was born but you wouldn't guess from the way she tells it the same story is told in bars the length and <UNK> of scotland as i discussed it with a friend one night in <UNK> a local cut in to give his version the discussion continued to closing time br br stories passed down like this become part of our being who doesn't remember the stories our parents told us when we were children they become our invisible world and as we grow older they maybe still serve as inspiration or as an emotional <UNK> fact and fiction blend with <UNK> role models warning stories <UNK> magic and mystery br br my name is <UNK> like my grandfather and his grandfather before him our protagonist introduces\n",
            "Label: positive\n",
            "\n",
            "📄 Review #4\n",
            "Text: <START> worst mistake of my life br br i picked this movie up at target for 5 because i figured hey it's sandler i can get some cheap laughs i was wrong completely wrong mid way through the film all three of my friends were asleep and i was still suffering worst plot worst script worst movie i have ever seen i wanted to hit my head up against a wall for an hour then i'd stop and you know why because it felt damn good upon bashing my head in i stuck that damn movie in the <UNK> and watched it burn and that felt better than anything else i've ever done it took american psycho army of darkness and kill bill just to get over that crap i hate you sandler for actually going through with this and ruining a whole day of my life <PAD> <PAD> <PAD> <PAD> <PAD> <PAD> <PAD> <PAD> <PAD> <PAD> <PAD> <PAD> <PAD> <PAD> <PAD> <PAD> <PAD> <PAD> <PAD> <PAD> <PAD> <PAD> <PAD> <PAD> <PAD> <PAD> <PAD> <PAD> <PAD> <PAD> <PAD> <PAD> <PAD> <PAD> <PAD> <PAD> <PAD> <PAD> <PAD> <PAD> <PAD> <PAD> <PAD> <PAD> <PAD> <PAD> <PAD> <PAD> <PAD> <PAD> <PAD> <PAD> <PAD>\n",
            "Label: negative\n"
          ]
        }
      ]
    },
    {
      "cell_type": "code",
      "source": [
        "\n",
        "# Побудова моделі\n",
        "model = tf.keras.Sequential([\n",
        "    # Шар embedding перетворює індекси слів у вектори розмірності 128\n",
        "    tf.keras.layers.Embedding(VOCAB_SIZE, 128, input_length=MAXLEN),\n",
        "\n",
        "    # Двосторонній LSTM — дозволяє враховувати як лівий, так і правий контекст\n",
        "    tf.keras.layers.Bidirectional(\n",
        "        tf.keras.layers.LSTM(64, dropout=0.3, recurrent_dropout=0.3)\n",
        "    ),\n",
        "\n",
        "    # Повнозв'язний шар з ReLU-активацією — для навчання більш складних патернів\n",
        "    tf.keras.layers.Dense(64, activation='relu'),\n",
        "\n",
        "    # Dropout — вимикає 50% нейронів під час тренування для боротьби з перенавчанням\n",
        "    tf.keras.layers.Dropout(0.5),\n",
        "\n",
        "    # Останній шар — один нейрон з сигмоїдою для бінарної класифікації (0 або 1)\n",
        "    tf.keras.layers.Dense(1, activation='sigmoid')\n",
        "])\n",
        "early_stop = EarlyStopping(monitor='val_loss', patience=2, restore_best_weights=True)\n"
      ],
      "metadata": {
        "colab": {
          "base_uri": "https://localhost:8080/"
        },
        "id": "nfl1fLucr2ZX",
        "outputId": "d3f5a741-babe-4b4c-de46-06869b4ed97b"
      },
      "execution_count": 41,
      "outputs": [
        {
          "output_type": "stream",
          "name": "stderr",
          "text": [
            "/usr/local/lib/python3.11/dist-packages/keras/src/layers/core/embedding.py:90: UserWarning: Argument `input_length` is deprecated. Just remove it.\n",
            "  warnings.warn(\n"
          ]
        }
      ]
    },
    {
      "cell_type": "code",
      "source": [
        "model.compile(optimizer='adam', loss='binary_crossentropy', metrics=['accuracy'])\n",
        "model.build(input_shape=(None, MAXLEN))\n",
        "model.summary() # Вивели табличку архітектури NN"
      ],
      "metadata": {
        "colab": {
          "base_uri": "https://localhost:8080/",
          "height": 272
        },
        "id": "1kdI7bSe4Cts",
        "outputId": "db62d1ec-1fc7-45c1-8d55-ed88d4180d80"
      },
      "execution_count": 16,
      "outputs": [
        {
          "output_type": "display_data",
          "data": {
            "text/plain": [
              "\u001b[1mModel: \"sequential_13\"\u001b[0m\n"
            ],
            "text/html": [
              "<pre style=\"white-space:pre;overflow-x:auto;line-height:normal;font-family:Menlo,'DejaVu Sans Mono',consolas,'Courier New',monospace\"><span style=\"font-weight: bold\">Model: \"sequential_13\"</span>\n",
              "</pre>\n"
            ]
          },
          "metadata": {}
        },
        {
          "output_type": "display_data",
          "data": {
            "text/plain": [
              "┏━━━━━━━━━━━━━━━━━━━━━━━━━━━━━━━━━┳━━━━━━━━━━━━━━━━━━━━━━━━┳━━━━━━━━━━━━━━━┓\n",
              "┃\u001b[1m \u001b[0m\u001b[1mLayer (type)                   \u001b[0m\u001b[1m \u001b[0m┃\u001b[1m \u001b[0m\u001b[1mOutput Shape          \u001b[0m\u001b[1m \u001b[0m┃\u001b[1m \u001b[0m\u001b[1m      Param #\u001b[0m\u001b[1m \u001b[0m┃\n",
              "┡━━━━━━━━━━━━━━━━━━━━━━━━━━━━━━━━━╇━━━━━━━━━━━━━━━━━━━━━━━━╇━━━━━━━━━━━━━━━┩\n",
              "│ embedding_12 (\u001b[38;5;33mEmbedding\u001b[0m)        │ (\u001b[38;5;45mNone\u001b[0m, \u001b[38;5;34m200\u001b[0m, \u001b[38;5;34m128\u001b[0m)       │     \u001b[38;5;34m1,280,000\u001b[0m │\n",
              "├─────────────────────────────────┼────────────────────────┼───────────────┤\n",
              "│ bidirectional_6 (\u001b[38;5;33mBidirectional\u001b[0m) │ (\u001b[38;5;45mNone\u001b[0m, \u001b[38;5;34m128\u001b[0m)            │        \u001b[38;5;34m98,816\u001b[0m │\n",
              "├─────────────────────────────────┼────────────────────────┼───────────────┤\n",
              "│ dense_19 (\u001b[38;5;33mDense\u001b[0m)                │ (\u001b[38;5;45mNone\u001b[0m, \u001b[38;5;34m64\u001b[0m)             │         \u001b[38;5;34m8,256\u001b[0m │\n",
              "├─────────────────────────────────┼────────────────────────┼───────────────┤\n",
              "│ dropout_6 (\u001b[38;5;33mDropout\u001b[0m)             │ (\u001b[38;5;45mNone\u001b[0m, \u001b[38;5;34m64\u001b[0m)             │             \u001b[38;5;34m0\u001b[0m │\n",
              "├─────────────────────────────────┼────────────────────────┼───────────────┤\n",
              "│ dense_20 (\u001b[38;5;33mDense\u001b[0m)                │ (\u001b[38;5;45mNone\u001b[0m, \u001b[38;5;34m1\u001b[0m)              │            \u001b[38;5;34m65\u001b[0m │\n",
              "└─────────────────────────────────┴────────────────────────┴───────────────┘\n"
            ],
            "text/html": [
              "<pre style=\"white-space:pre;overflow-x:auto;line-height:normal;font-family:Menlo,'DejaVu Sans Mono',consolas,'Courier New',monospace\">┏━━━━━━━━━━━━━━━━━━━━━━━━━━━━━━━━━┳━━━━━━━━━━━━━━━━━━━━━━━━┳━━━━━━━━━━━━━━━┓\n",
              "┃<span style=\"font-weight: bold\"> Layer (type)                    </span>┃<span style=\"font-weight: bold\"> Output Shape           </span>┃<span style=\"font-weight: bold\">       Param # </span>┃\n",
              "┡━━━━━━━━━━━━━━━━━━━━━━━━━━━━━━━━━╇━━━━━━━━━━━━━━━━━━━━━━━━╇━━━━━━━━━━━━━━━┩\n",
              "│ embedding_12 (<span style=\"color: #0087ff; text-decoration-color: #0087ff\">Embedding</span>)        │ (<span style=\"color: #00d7ff; text-decoration-color: #00d7ff\">None</span>, <span style=\"color: #00af00; text-decoration-color: #00af00\">200</span>, <span style=\"color: #00af00; text-decoration-color: #00af00\">128</span>)       │     <span style=\"color: #00af00; text-decoration-color: #00af00\">1,280,000</span> │\n",
              "├─────────────────────────────────┼────────────────────────┼───────────────┤\n",
              "│ bidirectional_6 (<span style=\"color: #0087ff; text-decoration-color: #0087ff\">Bidirectional</span>) │ (<span style=\"color: #00d7ff; text-decoration-color: #00d7ff\">None</span>, <span style=\"color: #00af00; text-decoration-color: #00af00\">128</span>)            │        <span style=\"color: #00af00; text-decoration-color: #00af00\">98,816</span> │\n",
              "├─────────────────────────────────┼────────────────────────┼───────────────┤\n",
              "│ dense_19 (<span style=\"color: #0087ff; text-decoration-color: #0087ff\">Dense</span>)                │ (<span style=\"color: #00d7ff; text-decoration-color: #00d7ff\">None</span>, <span style=\"color: #00af00; text-decoration-color: #00af00\">64</span>)             │         <span style=\"color: #00af00; text-decoration-color: #00af00\">8,256</span> │\n",
              "├─────────────────────────────────┼────────────────────────┼───────────────┤\n",
              "│ dropout_6 (<span style=\"color: #0087ff; text-decoration-color: #0087ff\">Dropout</span>)             │ (<span style=\"color: #00d7ff; text-decoration-color: #00d7ff\">None</span>, <span style=\"color: #00af00; text-decoration-color: #00af00\">64</span>)             │             <span style=\"color: #00af00; text-decoration-color: #00af00\">0</span> │\n",
              "├─────────────────────────────────┼────────────────────────┼───────────────┤\n",
              "│ dense_20 (<span style=\"color: #0087ff; text-decoration-color: #0087ff\">Dense</span>)                │ (<span style=\"color: #00d7ff; text-decoration-color: #00d7ff\">None</span>, <span style=\"color: #00af00; text-decoration-color: #00af00\">1</span>)              │            <span style=\"color: #00af00; text-decoration-color: #00af00\">65</span> │\n",
              "└─────────────────────────────────┴────────────────────────┴───────────────┘\n",
              "</pre>\n"
            ]
          },
          "metadata": {}
        },
        {
          "output_type": "display_data",
          "data": {
            "text/plain": [
              "\u001b[1m Total params: \u001b[0m\u001b[38;5;34m1,387,137\u001b[0m (5.29 MB)\n"
            ],
            "text/html": [
              "<pre style=\"white-space:pre;overflow-x:auto;line-height:normal;font-family:Menlo,'DejaVu Sans Mono',consolas,'Courier New',monospace\"><span style=\"font-weight: bold\"> Total params: </span><span style=\"color: #00af00; text-decoration-color: #00af00\">1,387,137</span> (5.29 MB)\n",
              "</pre>\n"
            ]
          },
          "metadata": {}
        },
        {
          "output_type": "display_data",
          "data": {
            "text/plain": [
              "\u001b[1m Trainable params: \u001b[0m\u001b[38;5;34m1,387,137\u001b[0m (5.29 MB)\n"
            ],
            "text/html": [
              "<pre style=\"white-space:pre;overflow-x:auto;line-height:normal;font-family:Menlo,'DejaVu Sans Mono',consolas,'Courier New',monospace\"><span style=\"font-weight: bold\"> Trainable params: </span><span style=\"color: #00af00; text-decoration-color: #00af00\">1,387,137</span> (5.29 MB)\n",
              "</pre>\n"
            ]
          },
          "metadata": {}
        },
        {
          "output_type": "display_data",
          "data": {
            "text/plain": [
              "\u001b[1m Non-trainable params: \u001b[0m\u001b[38;5;34m0\u001b[0m (0.00 B)\n"
            ],
            "text/html": [
              "<pre style=\"white-space:pre;overflow-x:auto;line-height:normal;font-family:Menlo,'DejaVu Sans Mono',consolas,'Courier New',monospace\"><span style=\"font-weight: bold\"> Non-trainable params: </span><span style=\"color: #00af00; text-decoration-color: #00af00\">0</span> (0.00 B)\n",
              "</pre>\n"
            ]
          },
          "metadata": {}
        }
      ]
    },
    {
      "cell_type": "code",
      "source": [
        "# Навчання моделі\n",
        "model.fit(\n",
        "    train_x, train_y,\n",
        "    epochs=10,\n",
        "    batch_size=64,\n",
        "    validation_data=(test_x, test_y),\n",
        "     callbacks=[early_stop]\n",
        ")\n"
      ],
      "metadata": {
        "colab": {
          "base_uri": "https://localhost:8080/"
        },
        "id": "TsxN9B1k3TH0",
        "outputId": "446e2f16-f1e2-4a7c-ffea-9765e2eeb6b5"
      },
      "execution_count": 17,
      "outputs": [
        {
          "output_type": "stream",
          "name": "stdout",
          "text": [
            "Epoch 1/10\n",
            "\u001b[1m313/313\u001b[0m \u001b[32m━━━━━━━━━━━━━━━━━━━━\u001b[0m\u001b[37m\u001b[0m \u001b[1m379s\u001b[0m 1s/step - accuracy: 0.6206 - loss: 0.6344 - val_accuracy: 0.8020 - val_loss: 0.4561\n",
            "Epoch 2/10\n",
            "\u001b[1m313/313\u001b[0m \u001b[32m━━━━━━━━━━━━━━━━━━━━\u001b[0m\u001b[37m\u001b[0m \u001b[1m382s\u001b[0m 1s/step - accuracy: 0.8254 - loss: 0.4165 - val_accuracy: 0.8108 - val_loss: 0.4238\n",
            "Epoch 3/10\n",
            "\u001b[1m313/313\u001b[0m \u001b[32m━━━━━━━━━━━━━━━━━━━━\u001b[0m\u001b[37m\u001b[0m \u001b[1m381s\u001b[0m 1s/step - accuracy: 0.8651 - loss: 0.3400 - val_accuracy: 0.7972 - val_loss: 0.4554\n",
            "Epoch 4/10\n",
            "\u001b[1m313/313\u001b[0m \u001b[32m━━━━━━━━━━━━━━━━━━━━\u001b[0m\u001b[37m\u001b[0m \u001b[1m381s\u001b[0m 1s/step - accuracy: 0.8715 - loss: 0.3167 - val_accuracy: 0.8163 - val_loss: 0.4377\n"
          ]
        },
        {
          "output_type": "execute_result",
          "data": {
            "text/plain": [
              "<keras.src.callbacks.history.History at 0x7e3b5e6b2510>"
            ]
          },
          "metadata": {},
          "execution_count": 17
        }
      ]
    },
    {
      "cell_type": "code",
      "source": [
        "model.save('classification_review.keras') # Опціонально зберегти модель"
      ],
      "metadata": {
        "colab": {
          "base_uri": "https://localhost:8080/"
        },
        "id": "1r1GBZJcH_9O",
        "outputId": "10622930-1c71-4ba8-e1af-4b9c9b1f042a"
      },
      "execution_count": 40,
      "outputs": [
        {
          "output_type": "stream",
          "name": "stderr",
          "text": [
            "/usr/local/lib/python3.11/dist-packages/keras/src/saving/saving_api.py:107: UserWarning: You are saving a model that has not yet been built. It might not contain any weights yet. Consider building the model first by calling it on some data.\n",
            "  return saving_lib.save_model(model, filepath)\n"
          ]
        }
      ]
    },
    {
      "cell_type": "code",
      "source": [
        "from tensorflow.keras.preprocessing.sequence import pad_sequences\n",
        "\n",
        "# Словник слів з IMDb\n",
        "word_index = tf.keras.datasets.imdb.get_word_index()\n",
        "word_index = {k: (v + 3) for k, v in word_index.items()}\n",
        "word_index[\"<PAD>\"] = 0\n",
        "word_index[\"<START>\"] = 1\n",
        "word_index[\"<UNK>\"] = 2\n",
        "word_index[\"<UNUSED>\"] = 3\n",
        "\n",
        "# Наші тестові дані\n",
        "text_1 = \"This movie was absolutely terrible and boring\"\n",
        "text_2 = \"I was amazed by plot! Incredible movie!\"\n",
        "# Токенізація вручну (перетворення в індекси)\n",
        "def encode_review(text):\n",
        "    tokens = text.lower().split()\n",
        "    return [1] + [word_index.get(word, 2) for word in tokens]  # 1 = <START>, 2 = <UNK>\n",
        "\n",
        "encoded_1 = encode_review(text_1)\n",
        "padded_1 = pad_sequences([encoded_1], maxlen=200, padding='post', truncating='post')\n",
        "\n",
        "encoded_2 = encode_review(text_2)\n",
        "padded_2 = pad_sequences([encoded_2], maxlen=200, padding='post', truncating='post')\n",
        "# Передбачення\n",
        "pred_1 = model.predict(padded_1)\n",
        "pred_2 = model.predict(padded_2)\n",
        "print(\"Text 1:\",f\"\\n {text_1}\",f\"\\nClassification: \\n\", \"positive\" if pred_1[0][0] >= 0.5 else \"negative\")\n",
        "print(\"Text 2:\",f\"\\n {text_2}\", f\"\\nClassification: \\n\",\"positive\" if pred_2[0][0] >= 0.5 else \"negative\")\n",
        "\n",
        "# Загалом для подібної класифікації тексту краще використовувати BERT/Transformers,\n",
        "# оскільки вони значно краще розуміють контекст слів"
      ],
      "metadata": {
        "colab": {
          "base_uri": "https://localhost:8080/"
        },
        "id": "OhiPRNiiB1G7",
        "outputId": "11278f2e-2bcb-435b-8b08-5a9401363090"
      },
      "execution_count": 33,
      "outputs": [
        {
          "output_type": "stream",
          "name": "stdout",
          "text": [
            "\u001b[1m1/1\u001b[0m \u001b[32m━━━━━━━━━━━━━━━━━━━━\u001b[0m\u001b[37m\u001b[0m \u001b[1m0s\u001b[0m 217ms/step\n",
            "\u001b[1m1/1\u001b[0m \u001b[32m━━━━━━━━━━━━━━━━━━━━\u001b[0m\u001b[37m\u001b[0m \u001b[1m0s\u001b[0m 224ms/step\n",
            "Text 1: \n",
            " This movie was absolutely terrible and boring \n",
            "Classification: \n",
            " negative\n",
            "Text 2: \n",
            " I was amazed by plot! Incredible movie! \n",
            "Classification: \n",
            " positive\n"
          ]
        }
      ]
    }
  ]
}