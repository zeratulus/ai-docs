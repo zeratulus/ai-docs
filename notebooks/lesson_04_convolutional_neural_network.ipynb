{
  "nbformat": 4,
  "nbformat_minor": 0,
  "metadata": {
    "colab": {
      "provenance": [],
      "gpuType": "T4"
    },
    "kernelspec": {
      "name": "python3",
      "display_name": "Python 3"
    },
    "accelerator": "GPU"
  },
  "cells": [
    {
      "cell_type": "markdown",
      "metadata": {
        "id": "3DR-eO17geWu"
      },
      "source": [
        "# Convolutional Neural Network"
      ]
    },
    {
      "cell_type": "markdown",
      "metadata": {
        "id": "EMefrVPCg-60"
      },
      "source": [
        "### Importing the libraries"
      ]
    },
    {
      "cell_type": "code",
      "source": [
        "from google.colab import drive\n",
        "drive.mount('/content/drive')"
      ],
      "metadata": {
        "id": "hOn7MJtK2odk",
        "colab": {
          "base_uri": "https://localhost:8080/"
        },
        "outputId": "0297a86a-8490-49f4-ae28-c65f4182b119"
      },
      "execution_count": null,
      "outputs": [
        {
          "output_type": "stream",
          "name": "stdout",
          "text": [
            "Mounted at /content/drive\n"
          ]
        }
      ]
    },
    {
      "cell_type": "code",
      "metadata": {
        "id": "sCV30xyVhFbE"
      },
      "source": [
        "import tensorflow as tf\n",
        "from tensorflow.keras.preprocessing.image import ImageDataGenerator"
      ],
      "execution_count": null,
      "outputs": []
    },
    {
      "cell_type": "code",
      "metadata": {
        "id": "FIleuCAjoFD8",
        "outputId": "6f0dd5b1-8600-4424-c6c7-769494a1430a",
        "colab": {
          "base_uri": "https://localhost:8080/",
          "height": 35
        }
      },
      "source": [
        "tf.__version__"
      ],
      "execution_count": null,
      "outputs": [
        {
          "output_type": "execute_result",
          "data": {
            "text/plain": [
              "'2.18.0'"
            ],
            "application/vnd.google.colaboratory.intrinsic+json": {
              "type": "string"
            }
          },
          "metadata": {},
          "execution_count": 3
        }
      ]
    },
    {
      "cell_type": "markdown",
      "metadata": {
        "id": "oxQxCBWyoGPE"
      },
      "source": [
        "## Part 1 - Data Preprocessing"
      ]
    },
    {
      "cell_type": "markdown",
      "metadata": {
        "id": "MvE-heJNo3GG"
      },
      "source": [
        "### Preprocessing the Training set"
      ]
    },
    {
      "cell_type": "code",
      "metadata": {
        "id": "0koUcJMJpEBD",
        "colab": {
          "base_uri": "https://localhost:8080/"
        },
        "outputId": "b23773c9-13aa-45bf-8fd0-dd7c1c345a75"
      },
      "source": [
        "# Ініціалізація ImageDataGenerator для підготовки зображень з різними трансформаціями\n",
        "train_datagen = ImageDataGenerator(\n",
        "    rescale = 1./255,         # Масштабування пікселів зображень до діапазону [0, 1]\n",
        "    shear_range = 0.2,        # Рандомне зсування (shear) зображень для збільшення варіативності\n",
        "    zoom_range = 0.2,         # Рандомне збільшення/зменшення зображень (zoom) для варіативності\n",
        "    horizontal_flip = True    # Рандомне горизонтальне відображення зображень\n",
        ")\n",
        "\n",
        "# Завантаження зображень з директорії 'dataset/training_set' з певними параметрами\n",
        "training_set = train_datagen.flow_from_directory(\n",
        "    '/content/drive/MyDrive/Gen AI Cource/Урок 4: Розширені архітектури нейронних мереж/Convolutional Neural Networks (CNN)/Python/dataset/training_set',     # Шлях до директорії з тренувальними зображеннями\n",
        "    target_size = (64, 64),     # Перемасштабування зображень до розміру 64x64 пікселів\n",
        "    batch_size = 32,            # Розмір пакету (batch) зображень, який буде використовуватись при тренуванні\n",
        "    class_mode = 'binary'       # Модель кодування міток: двійкова класифікація (наприклад, 0 або 1)\n",
        ")\n"
      ],
      "execution_count": null,
      "outputs": [
        {
          "output_type": "stream",
          "name": "stdout",
          "text": [
            "Found 8000 images belonging to 2 classes.\n"
          ]
        }
      ]
    },
    {
      "cell_type": "markdown",
      "metadata": {
        "id": "mrCMmGw9pHys"
      },
      "source": [
        "### Preprocessing the Test set"
      ]
    },
    {
      "cell_type": "code",
      "metadata": {
        "id": "SH4WzfOhpKc3",
        "colab": {
          "base_uri": "https://localhost:8080/"
        },
        "outputId": "63243e42-3890-4851-db51-a9d31bcd88c9"
      },
      "source": [
        "test_datagen = ImageDataGenerator(\n",
        "    rescale = 1./255  # Масштабування пікселів зображень до діапазону [0, 1] для нормалізації\n",
        ")\n",
        "\n",
        "# Завантаження тестових зображень з директорії 'dataset/test_set' з певними параметрами\n",
        "test_set = test_datagen.flow_from_directory(\n",
        "    '/content/drive/MyDrive/Gen AI Cource/Урок 4: Розширені архітектури нейронних мереж/Convolutional Neural Networks (CNN)/Python/dataset/test_set',     # Шлях до директорії з тестовими зображеннями\n",
        "    target_size = (64, 64),  # Перемасштабування зображень до розміру 64x64 пікселів\n",
        "    batch_size = 32,         # Розмір пакету (batch) зображень, який буде використовуватись при тестуванні\n",
        "    class_mode = 'binary'    # Мод аль кодування міток: двійкова класифікація (наприклад, 0 або 1)\n",
        ")\n"
      ],
      "execution_count": null,
      "outputs": [
        {
          "output_type": "stream",
          "name": "stdout",
          "text": [
            "Found 2000 images belonging to 2 classes.\n"
          ]
        }
      ]
    },
    {
      "cell_type": "markdown",
      "metadata": {
        "id": "af8O4l90gk7B"
      },
      "source": [
        "## Part 2 - Building the CNN"
      ]
    },
    {
      "cell_type": "markdown",
      "metadata": {
        "id": "ces1gXY2lmoX"
      },
      "source": [
        "### Initialising the CNN"
      ]
    },
    {
      "cell_type": "code",
      "metadata": {
        "id": "SAUt4UMPlhLS"
      },
      "source": [
        "# Створення порожньої послідовної моделі (Sequential) для побудови нейронної мережі\n",
        "cnn = tf.keras.models.Sequential()"
      ],
      "execution_count": null,
      "outputs": []
    },
    {
      "cell_type": "markdown",
      "metadata": {
        "id": "u5YJj_XMl5LF"
      },
      "source": [
        "### Step 1 - Convolution"
      ]
    },
    {
      "cell_type": "code",
      "metadata": {
        "id": "XPzPrMckl-hV",
        "colab": {
          "base_uri": "https://localhost:8080/"
        },
        "outputId": "b445b9c3-74d4-4c82-d21d-451208fa70c9"
      },
      "source": [
        "# Додавання 2D-конвуляційного шару до моделі\n",
        "cnn.add(tf.keras.layers.Conv2D(\n",
        "    filters=32,               # Кількість фільтрів (каналів) у шарі, що визначає кількість вихідних характеристик\n",
        "    kernel_size=3,            # Розмір ядра (фільтру), який буде застосовуватись до зображення (3x3)\n",
        "    activation='relu',        # Функція активації ReLU для додавання нелінійності\n",
        "    input_shape=[64, 64, 3]   # Формат вхідних даних: зображення розміру 64x64 з 3 каналами (RGB)\n",
        "))\n"
      ],
      "execution_count": null,
      "outputs": [
        {
          "output_type": "stream",
          "name": "stderr",
          "text": [
            "/usr/local/lib/python3.11/dist-packages/keras/src/layers/convolutional/base_conv.py:107: UserWarning: Do not pass an `input_shape`/`input_dim` argument to a layer. When using Sequential models, prefer using an `Input(shape)` object as the first layer in the model instead.\n",
            "  super().__init__(activity_regularizer=activity_regularizer, **kwargs)\n"
          ]
        }
      ]
    },
    {
      "cell_type": "markdown",
      "metadata": {
        "id": "tf87FpvxmNOJ"
      },
      "source": [
        "### Step 2 - Pooling"
      ]
    },
    {
      "cell_type": "code",
      "metadata": {
        "id": "ncpqPl69mOac"
      },
      "source": [
        "# Додавання шару максимального підвибору (MaxPooling) для зменшення розміру зображення\n",
        "cnn.add(tf.keras.layers.MaxPool2D(\n",
        "    pool_size=2,        # Розмір пулінгового вікна (2x2) для вибору максимального значення в кожному регіоні\n",
        "    strides=2           # Крок скидання вікна, який визначає, на скільки пікселів переміщається вікно\n",
        "))\n"
      ],
      "execution_count": null,
      "outputs": []
    },
    {
      "cell_type": "markdown",
      "metadata": {
        "id": "xaTOgD8rm4mU"
      },
      "source": [
        "### Adding a second convolutional layer"
      ]
    },
    {
      "cell_type": "code",
      "metadata": {
        "id": "i_-FZjn_m8gk"
      },
      "source": [
        "# Додавання ще одного 2D-конвуляційного шару до моделі\n",
        "cnn.add(tf.keras.layers.Conv2D(\n",
        "    filters=32,               # Кількість фільтрів (каналів) у шарі, що визначає кількість вихідних характеристик\n",
        "    kernel_size=3,            # Розмір ядра (фільтру), який буде застосовуватись до зображення (3x3)\n",
        "    activation='relu'         # Функція активації ReLU для додавання нелінійності\n",
        "))\n",
        "\n",
        "# Додавання ще одного шару максимального підвибору (MaxPooling) для зменшення розміру зображення\n",
        "cnn.add(tf.keras.layers.MaxPool2D(\n",
        "    pool_size=2,        # Розмір пулінгового вікна (2x2) для вибору максимального значення в кожному регіоні\n",
        "    strides=2           # Крок скидання вікна, який визначає, на скільки пікселів переміщається вікно\n",
        "))\n"
      ],
      "execution_count": null,
      "outputs": []
    },
    {
      "cell_type": "markdown",
      "metadata": {
        "id": "tmiEuvTunKfk"
      },
      "source": [
        "### Step 3 - Flattening"
      ]
    },
    {
      "cell_type": "code",
      "metadata": {
        "id": "6AZeOGCvnNZn"
      },
      "source": [
        "# Додавання шару Flatten для перетворення 2D-матриць в 1D-вектор\n",
        "cnn.add(tf.keras.layers.Flatten())"
      ],
      "execution_count": null,
      "outputs": []
    },
    {
      "cell_type": "markdown",
      "metadata": {
        "id": "dAoSECOm203v"
      },
      "source": [
        "### Step 4 - Full Connection"
      ]
    },
    {
      "cell_type": "code",
      "metadata": {
        "id": "8GtmUlLd26Nq"
      },
      "source": [
        "# Додавання повнозв'язного (Dense) шару з 128 одиницями та функцією активації ReLU\n",
        "cnn.add(tf.keras.layers.Dense(\n",
        "    units=128,             # Кількість нейронів (одиниць) у цьому шарі\n",
        "    activation='relu'      # Функція активації ReLU для додавання нелінійності\n",
        "))\n"
      ],
      "execution_count": null,
      "outputs": []
    },
    {
      "cell_type": "markdown",
      "metadata": {
        "id": "yTldFvbX28Na"
      },
      "source": [
        "### Step 5 - Output Layer"
      ]
    },
    {
      "cell_type": "code",
      "metadata": {
        "id": "1p_Zj1Mc3Ko_"
      },
      "source": [
        "# Додавання вихідного повнозв'язного (Dense) шару з 1 одиницею та функцією активації Sigmoid\n",
        "cnn.add(tf.keras.layers.Dense(\n",
        "    units=1,               # Кількість нейронів (1) у вихідному шарі (для бінарної класифікації)\n",
        "    activation='sigmoid'   # Функція активації Sigmoid, яка обмежує вихідне значення до діапазону [0, 1]\n",
        "))\n"
      ],
      "execution_count": null,
      "outputs": []
    },
    {
      "cell_type": "markdown",
      "metadata": {
        "id": "D6XkI90snSDl"
      },
      "source": [
        "## Part 3 - Training the CNN"
      ]
    },
    {
      "cell_type": "markdown",
      "metadata": {
        "id": "vfrFQACEnc6i"
      },
      "source": [
        "### Compiling the CNN"
      ]
    },
    {
      "cell_type": "code",
      "metadata": {
        "id": "NALksrNQpUlJ"
      },
      "source": [
        "# Компіляція моделі з вказаними оптимізатором, функцією втрат і метриками\n",
        "cnn.compile(\n",
        "    optimizer='adam',                  # Оптимізатор Adam для ефективного оновлення ваг моделі\n",
        "    loss='binary_crossentropy',         # Функція втрат для бінарної класифікації (перехресна ентропія)\n",
        "    metrics=['accuracy']                # Метрика точності для оцінки ефективності моделі\n",
        ")"
      ],
      "execution_count": null,
      "outputs": []
    },
    {
      "cell_type": "markdown",
      "metadata": {
        "id": "ehS-v3MIpX2h"
      },
      "source": [
        "### Training the CNN on the Training set and evaluating it on the Test set"
      ]
    },
    {
      "cell_type": "code",
      "metadata": {
        "id": "XUj1W4PJptta",
        "colab": {
          "base_uri": "https://localhost:8080/"
        },
        "outputId": "0cb740a5-94b6-4ed6-81d6-63ee6148b1d5"
      },
      "source": [
        "from tensorflow.keras.callbacks import EarlyStopping\n",
        "\n",
        "# Оголошуємо колбек EarlyStopping\n",
        "early_stopping = EarlyStopping(\n",
        "    monitor='val_loss',          # Моніторинг метрики для зупинки (можна використовувати 'val_accuracy' для точності)\n",
        "    patience=3,                  # Кількість епох, після яких зупиняємо тренування, якщо немає покращень\n",
        "    verbose=1,                   # Виведення повідомлення про зупинку тренування\n",
        "    restore_best_weights=True    # Повертаємо ваги моделі на найкращий етап (найменший val_loss)\n",
        ")\n",
        "\n",
        "# Навчання моделі з використанням early stopping\n",
        "cnn.fit(\n",
        "    x=training_set,              # Тренувальні дані\n",
        "    validation_data=test_set,    # Дані для валідації\n",
        "    epochs=5,                   # Кількість епох для тренування\n",
        "    steps_per_epoch=len(training_set),  # Кількість кроків на одну епоху\n",
        "    validation_steps=len(test_set),    # Кількість кроків на валідацію\n",
        "    verbose=1,                   # Виведення прогресу тренування\n",
        "    callbacks=[early_stopping]    # Додаємо колбек EarlyStopping для моніторингу процесу\n",
        ")\n"
      ],
      "execution_count": null,
      "outputs": [
        {
          "output_type": "stream",
          "name": "stderr",
          "text": [
            "/usr/local/lib/python3.11/dist-packages/keras/src/trainers/data_adapters/py_dataset_adapter.py:121: UserWarning: Your `PyDataset` class should call `super().__init__(**kwargs)` in its constructor. `**kwargs` can include `workers`, `use_multiprocessing`, `max_queue_size`. Do not pass these arguments to `fit()`, as they will be ignored.\n",
            "  self._warn_if_super_not_called()\n"
          ]
        },
        {
          "output_type": "stream",
          "name": "stdout",
          "text": [
            "Epoch 1/5\n",
            "\u001b[1m250/250\u001b[0m \u001b[32m━━━━━━━━━━━━━━━━━━━━\u001b[0m\u001b[37m\u001b[0m \u001b[1m2272s\u001b[0m 9s/step - accuracy: 0.5574 - loss: 0.6869 - val_accuracy: 0.6755 - val_loss: 0.6090\n",
            "Epoch 2/5\n",
            "\u001b[1m250/250\u001b[0m \u001b[32m━━━━━━━━━━━━━━━━━━━━\u001b[0m\u001b[37m\u001b[0m \u001b[1m77s\u001b[0m 186ms/step - accuracy: 0.6749 - loss: 0.5980 - val_accuracy: 0.7185 - val_loss: 0.5555\n",
            "Epoch 3/5\n",
            "\u001b[1m250/250\u001b[0m \u001b[32m━━━━━━━━━━━━━━━━━━━━\u001b[0m\u001b[37m\u001b[0m \u001b[1m46s\u001b[0m 183ms/step - accuracy: 0.7119 - loss: 0.5596 - val_accuracy: 0.7410 - val_loss: 0.5492\n",
            "Epoch 4/5\n",
            "\u001b[1m250/250\u001b[0m \u001b[32m━━━━━━━━━━━━━━━━━━━━\u001b[0m\u001b[37m\u001b[0m \u001b[1m82s\u001b[0m 185ms/step - accuracy: 0.7338 - loss: 0.5316 - val_accuracy: 0.7610 - val_loss: 0.5043\n",
            "Epoch 5/5\n",
            "\u001b[1m250/250\u001b[0m \u001b[32m━━━━━━━━━━━━━━━━━━━━\u001b[0m\u001b[37m\u001b[0m \u001b[1m84s\u001b[0m 195ms/step - accuracy: 0.7519 - loss: 0.5048 - val_accuracy: 0.7320 - val_loss: 0.5430\n",
            "Restoring model weights from the end of the best epoch: 4.\n"
          ]
        },
        {
          "output_type": "execute_result",
          "data": {
            "text/plain": [
              "<keras.src.callbacks.history.History at 0x78904c713350>"
            ]
          },
          "metadata": {},
          "execution_count": 14
        }
      ]
    },
    {
      "cell_type": "markdown",
      "metadata": {
        "id": "U3PZasO0006Z"
      },
      "source": [
        "## Part 4 - Making a single prediction"
      ]
    },
    {
      "cell_type": "code",
      "metadata": {
        "id": "gsSiWEJY1BPB",
        "colab": {
          "base_uri": "https://localhost:8080/"
        },
        "outputId": "752589c1-019a-4c8e-ac17-4d24a1512591"
      },
      "source": [
        "import numpy as np\n",
        "from tensorflow.keras.preprocessing import image\n",
        "# Завантаження зображення для передбачення та зміна його розміру до 64x64 пікселів\n",
        "test_image = image.load_img('/content/drive/MyDrive/Gen AI Cource/Урок 4: Розширені архітектури нейронних мереж/Convolutional Neural Networks (CNN)/Python/yorkshire-terrier.jpg', target_size = (64, 64))\n",
        "\n",
        "# Перетворення зображення в масив (числове представлення)\n",
        "test_image = image.img_to_array(test_image)\n",
        "\n",
        "# Додавання додаткового виміру, щоб відповідати формату вхідних даних моделі (1, 64, 64, 3)\n",
        "test_image = np.expand_dims(test_image, axis = 0)\n",
        "\n",
        "# Прогнозування класу для зображення\n",
        "result = cnn.predict(test_image)\n",
        "\n",
        "# Перевірка, до якого класу належить зображення: 'dog' або 'cat'\n",
        "training_set.class_indices   # Виведення відповідностей класів (мітки) для тренувального набору\n",
        "if result[0][0] >= 0.5:\n",
        "    prediction = 'dog'\n",
        "else:\n",
        "    prediction = 'cat'\n",
        "\n",
        "print(prediction)\n",
        "\n",
        "probability = result[0][0]\n",
        "print(f\"Probability: {probability}\")"
      ],
      "execution_count": null,
      "outputs": [
        {
          "output_type": "stream",
          "name": "stdout",
          "text": [
            "\u001b[1m1/1\u001b[0m \u001b[32m━━━━━━━━━━━━━━━━━━━━\u001b[0m\u001b[37m\u001b[0m \u001b[1m2s\u001b[0m 2s/step\n",
            "cat\n",
            "Probability: 0.24745285511016846\n"
          ]
        }
      ]
    },
    {
      "cell_type": "code",
      "metadata": {
        "id": "ED9KB3I54c1i"
      },
      "source": [
        "print(prediction)"
      ],
      "execution_count": null,
      "outputs": []
    }
  ]
}